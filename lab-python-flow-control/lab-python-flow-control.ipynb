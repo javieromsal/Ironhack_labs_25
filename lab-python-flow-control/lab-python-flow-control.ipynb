{
 "cells": [
  {
   "cell_type": "markdown",
   "id": "d3bfc191-8885-42ee-b0a0-bbab867c6f9f",
   "metadata": {
    "tags": []
   },
   "source": [
    "# Lab | Flow Control"
   ]
  },
  {
   "cell_type": "markdown",
   "id": "3851fcd1-cf98-4653-9c89-e003b7ec9400",
   "metadata": {},
   "source": [
    "## Exercise: Managing Customer Orders Optimized\n",
    "\n",
    "In the last lab, you were starting an online store that sells various products. To ensure smooth operations, you developed a program that manages customer orders and inventory.\n",
    "\n",
    "You did so without using flow control. Let's go a step further and improve this code.\n",
    "\n",
    "Follow the steps below to complete the exercise:\n",
    "\n",
    "1. Look at your code from the lab data structures, and improve repeated code with loops.\n",
    "\n",
    "2. Instead of asking the user to input the name of three products that a customer wants to order, do the following:\n",
    "    \n",
    "    a. Prompt the user to enter the name of a product that a customer wants to order.\n",
    "    \n",
    "    b. Add the product name to the \"customer_orders\" set.\n",
    "    \n",
    "    c. Ask the user if they want to add another product (yes/no).\n",
    "    \n",
    "    d. Continue the loop until the user does not want to add another product.\n",
    "\n",
    "3. Instead of updating the inventory by subtracting 1 from the quantity of each product, only do it for  the products that were ordered (those in \"customer_orders\")."
   ]
  },
  {
   "cell_type": "markdown",
   "id": "91daf47d-f2e0-4370-99f4-40f9873b6cb8",
   "metadata": {},
   "source": [
    "### 2. Instead of asking the user to input the name of three products that a customer wants to order, do the following:"
   ]
  },
  {
   "cell_type": "markdown",
   "id": "7255beb4-723a-4892-8d6a-7a7ba39057cd",
   "metadata": {},
   "source": [
    "a. Prompt the user to enter the name of a product that a customer wants to order.\n",
    "\n",
    "b. Add the product name to the \"customer_orders\" set.\n",
    "\n",
    "c. Ask the user if they want to add another product (yes/no).\n",
    "\n",
    "d. Continue the loop until the user does not want to add another product."
   ]
  },
  {
   "cell_type": "code",
   "execution_count": 27,
   "id": "4c82489e-3683-4919-b45d-662c42d24799",
   "metadata": {
    "scrolled": true
   },
   "outputs": [
    {
     "name": "stdin",
     "output_type": "stream",
     "text": [
      "Enter product name to order: mug\n",
      "Want to add another product (yes/no).? yes\n",
      "Enter product name to order: book\n",
      "Want to add another product (yes/no).? yes\n",
      "Enter product name to order: hat\n",
      "Want to add another product (yes/no).? no\n"
     ]
    }
   ],
   "source": [
    "products = [\"t-shirt\", \"mug\", \"hat\", \"book\", \"keychain\"]\n",
    "customer_orders = set()\n",
    "resp = \"yes\"\n",
    "while resp.lower() == \"yes\":\n",
    "    product = input(\"Enter product name to order:\")\n",
    "    if product in products:\n",
    "        customer_orders.add(product)\n",
    "    else:\n",
    "        print(\"Invalid product. Please choose from the list above.\")\n",
    "    resp = input(\"Want to add another product (yes/no).?\")\n"
   ]
  },
  {
   "cell_type": "code",
   "execution_count": 32,
   "id": "391f12f7-fa1c-4894-842c-b3b1d271ccbc",
   "metadata": {},
   "outputs": [
    {
     "data": {
      "text/plain": [
       "{'book', 'hat', 'mug'}"
      ]
     },
     "execution_count": 32,
     "metadata": {},
     "output_type": "execute_result"
    }
   ],
   "source": [
    "customer_orders"
   ]
  },
  {
   "cell_type": "markdown",
   "id": "f447fc8c-6394-471d-8b59-2e277b8fa2be",
   "metadata": {},
   "source": [
    "### 3. Instead of updating the inventory by subtracting 1 from the quantity of each product, only do it for the products that were ordered (those in \"customer_orders\")."
   ]
  },
  {
   "cell_type": "code",
   "execution_count": 30,
   "id": "2261ba36-b388-46d1-a567-e012ec2159cf",
   "metadata": {},
   "outputs": [
    {
     "name": "stdin",
     "output_type": "stream",
     "text": [
      "Enter the quantity for t-shirt:  45\n",
      "Enter the quantity for mug:  34\n",
      "Enter the quantity for hat:  33\n",
      "Enter the quantity for book:  45\n",
      "Enter the quantity for keychain:  45\n"
     ]
    }
   ],
   "source": [
    "inventory = {}\n",
    "for product in products:\n",
    "    quantity = input(f\"Enter the quantity for {product}: \")\n",
    "    inventory[product] = int(quantity)"
   ]
  },
  {
   "cell_type": "code",
   "execution_count": 36,
   "id": "259f3fc6-7860-46c3-8201-3ca9e8fa7638",
   "metadata": {},
   "outputs": [],
   "source": [
    "for item in inventory:\n",
    "    if item in customer_orders:\n",
    "        inventory[item]-=1"
   ]
  },
  {
   "cell_type": "code",
   "execution_count": 38,
   "id": "65302cb0-3698-4953-a0ec-17d3bdfdb3fc",
   "metadata": {},
   "outputs": [
    {
     "data": {
      "text/plain": [
       "{'t-shirt': 45, 'mug': 33, 'hat': 32, 'book': 44, 'keychain': 45}"
      ]
     },
     "execution_count": 38,
     "metadata": {},
     "output_type": "execute_result"
    }
   ],
   "source": [
    "inventory"
   ]
  },
  {
   "cell_type": "markdown",
   "id": "05c3f8b2-1909-4c07-b2ea-a21d64235eea",
   "metadata": {},
   "source": [
    "## Challenge: The Haunted Mansion"
   ]
  },
  {
   "cell_type": "markdown",
   "id": "26cb8d38-a471-4ac1-ac12-a57198f4f8ff",
   "metadata": {},
   "source": [
    "You are a brave adventurer who has decided to explore the Haunted Mansion, a decrepit old building that is rumored to be haunted by ghosts and spirits. Your objective is to find the treasure that is hidden somewhere in the mansion."
   ]
  },
  {
   "cell_type": "markdown",
   "id": "a6fd6397-e8e0-430d-96d4-5927b2213f54",
   "metadata": {},
   "source": [
    "### Instructions"
   ]
  },
  {
   "cell_type": "markdown",
   "id": "a777273e-ba1c-44f6-9821-7723653c2c52",
   "metadata": {},
   "source": [
    "Begin by creating a list of items that the adventurer can pick up along the way. These items will be used to help the adventurer overcome obstacles and defeat ghosts. Examples of items can be weapons, potions, keys, etc.\r\n",
    "\r\n",
    "Complete the function called \"run_mansion()\" that serves as the main function for the game. Within \"run_mansion()\", prompt the user to choose a path to take at each intersection. Each path should have its unique challenges and obstacles that the adventurer must overcome.\r\n",
    "\r\n",
    "Use loops to check if the adventurer has enough health points to continue the game. If their health points drop to zero, the game is over.\r\n",
    "\r\n",
    "Complete the function called \"encounter_ghost()\" that will be used to handle ghost encounters. The function should use random events to determine the outcome of the encounter, and the adventurer should use their items to help them defeat the ghost.\r\n",
    "\r\n",
    "Use loops to generate random events or items along the way. These events can either help or hinder the adventurer, and the outcome should be based on random chance.\r\n",
    "\r\n",
    "At the end of the mansion, the adventurer will find the treasure, and the game will end."
   ]
  },
  {
   "cell_type": "code",
   "execution_count": 44,
   "id": "4d6dba91-8475-4e6d-b10c-76a1e7741254",
   "metadata": {},
   "outputs": [],
   "source": [
    "items = [\"weapon\",\"potion\",\"keys\", \"apple\"]"
   ]
  },
  {
   "cell_type": "code",
   "execution_count": 76,
   "id": "6810bbdf-6478-400d-83d5-ece724f6ff24",
   "metadata": {},
   "outputs": [],
   "source": [
    "def encounter_ghost():\n",
    "    \"\"\"\n",
    "    This function handles the encounter with a ghost. \n",
    "    The outcome of the battle is determined by a random number between 1 and 10.\n",
    "    If the random number is less than or equal to 5, the adventurer defeats the ghost. In this case, print the message \"You defeated the ghost!\" \n",
    "    and return something that indicates the adventurer defeated the ghost.\n",
    "    If the random number is greater than 5, the adventurer loses the battle. In this case, print \"You lost the battle...\"\n",
    "    and return something that indicates the ghost defeated the adventurer.\n",
    "    \"\"\"\n",
    "    print(\"You encounter a ghost!\")\n",
    "    \n",
    "    # your code goes here\n",
    "    roll = random.randint(1, 10)\n",
    "    print(f\"You rolled a {roll}.\")\n",
    "\n",
    "    if roll <= 5:\n",
    "        print(\"You defeated the ghost!\")\n",
    "    else:\n",
    "        print(\"You lost the battle...\")"
   ]
  },
  {
   "cell_type": "code",
   "execution_count": 72,
   "id": "8dab9ccf-4c51-4570-83c6-bb6e057d943e",
   "metadata": {},
   "outputs": [],
   "source": [
    "# main function for the game\n",
    "def run_mansion():\n",
    "    \n",
    "    print(\"Welcome to the Haunted Mansion!\")\n",
    "    \n",
    "    \"\"\"\n",
    "    Simulates an adventure through a haunted mansion. The adventurer starts with 10 health points and no items.\n",
    "    Prompt the user to choose between two paths: \"left\" or \"right\". \n",
    "\n",
    "    If they choose \"left\", a random event occurs. There is a 50% chance that the adventurer will find a potion and a 50% chance that they will \n",
    "    fall into a trap and lose 2 health points. If they find the potion, it is saved into the adventurer's items. \n",
    "    If they fall into a trap, 2 points are taken out of the adventurer's health points.\n",
    "\n",
    "    If they choose \"right\", the \"encounter_ghost()\" function is called to handle the battle between the adventurer and the ghost. \n",
    "    If the adventurer wins, they find a key which is saved into the adventurer's items. If they lose, they lose 2 health points.\n",
    "    Hint: remember to check what encounter_ghost() returned to make know if they won or lost.\n",
    "\n",
    "    If the adventurer chooses something other than \"left\" or \"right\", they are prompted to try again.\n",
    "\n",
    "    If the adventurer's health points reach 0 or less, the message \"Game over, you lost all your health points.\" is printed.\n",
    "\n",
    "    If the adventurer has the key, they can unlock the door and find the Treasure. This message is printed \"You unlocked the door and found the \n",
    "    Treasure! Congratulations!\".\n",
    "    If they don't have the key, they are prompted to find it from the beginning.\n",
    "\n",
    "    \"\"\"\n",
    "     \n",
    "    # your code goes here\n",
    "    adventure_items = []\n",
    "    health_points = 10\n",
    "    event_chance = [\"potion\", \"trap\"]\n",
    "    path = input(\"Choose a path, left or right?\")\n",
    "    if path == \"left\":\n",
    "        event = random.choices(event_chance, weights=[.5,.5], k=1)\n",
    "        if event == \"potion\":\n",
    "            print(\"you have found a potion!\")\n",
    "            adventure_itemns.add(event)\n",
    "        else:\n",
    "            print(\"Trap! you just lost 2 lives :(\")\n",
    "            health_points = -2\n",
    "    else:\n",
    "        encounter_ghost()\n",
    "    \n",
    "        \n",
    "        "
   ]
  },
  {
   "cell_type": "code",
   "execution_count": 66,
   "id": "1334adff-e51d-4d92-a065-3eb231e62e94",
   "metadata": {},
   "outputs": [],
   "source": [
    "import random"
   ]
  },
  {
   "cell_type": "code",
   "execution_count": 74,
   "id": "01c6cf0f-1bc7-444f-a959-4ce485c7795c",
   "metadata": {},
   "outputs": [
    {
     "name": "stdout",
     "output_type": "stream",
     "text": [
      "Welcome to the Haunted Mansion!\n"
     ]
    },
    {
     "name": "stdin",
     "output_type": "stream",
     "text": [
      "Choose a path, left or right? left\n"
     ]
    },
    {
     "name": "stdout",
     "output_type": "stream",
     "text": [
      "Trap! you just lost 2 lives :(\n"
     ]
    }
   ],
   "source": [
    "run_mansion()"
   ]
  },
  {
   "cell_type": "code",
   "execution_count": null,
   "id": "f992e6c0-6c4c-4f51-9042-d3d129521004",
   "metadata": {},
   "outputs": [],
   "source": []
  }
 ],
 "metadata": {
  "kernelspec": {
   "display_name": "Python 3 (ipykernel)",
   "language": "python",
   "name": "python3"
  },
  "language_info": {
   "codemirror_mode": {
    "name": "ipython",
    "version": 3
   },
   "file_extension": ".py",
   "mimetype": "text/x-python",
   "name": "python",
   "nbconvert_exporter": "python",
   "pygments_lexer": "ipython3",
   "version": "3.12.4"
  }
 },
 "nbformat": 4,
 "nbformat_minor": 5
}
